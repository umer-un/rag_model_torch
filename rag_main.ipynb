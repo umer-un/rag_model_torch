{
 "cells": [
  {
   "cell_type": "code",
   "execution_count": 16,
   "metadata": {},
   "outputs": [],
   "source": [
    "# What is RAG"
   ]
  },
  {
   "cell_type": "code",
   "execution_count": 17,
   "metadata": {},
   "outputs": [
    {
     "name": "stdout",
     "output_type": "stream",
     "text": [
      "File human-nutrition-text.pdf exists.\n"
     ]
    }
   ],
   "source": [
    "# Download PDF file\n",
    "import os\n",
    "import requests\n",
    "\n",
    "# Get PDF document\n",
    "pdf_path = \"human-nutrition-text.pdf\"\n",
    "\n",
    "# Download PDF if it doesn't already exist\n",
    "if not os.path.exists(pdf_path):\n",
    "  print(\"File doesn't exist, downloading...\")\n",
    "\n",
    "  # The URL of the PDF you want to download\n",
    "  url = \"https://pressbooks.oer.hawaii.edu/humannutrition2/open/download?type=pdf\"\n",
    "\n",
    "  # The local filename to save the downloaded file\n",
    "  filename = pdf_path\n",
    "\n",
    "  # Send a GET request to the URL\n",
    "  response = requests.get(url)\n",
    "\n",
    "  # Check if the request was successful\n",
    "  if response.status_code == 200:\n",
    "      # Open a file in binary write mode and save the content to it\n",
    "      with open(filename, \"wb\") as file:\n",
    "          file.write(response.content)\n",
    "      print(f\"The file has been downloaded and saved as {filename}\")\n",
    "  else:\n",
    "      print(f\"Failed to download the file. Status code: {response.status_code}\")\n",
    "else:\n",
    "  print(f\"File {pdf_path} exists.\")"
   ]
  },
  {
   "cell_type": "markdown",
   "metadata": {},
   "source": [
    "Opening the PDF file"
   ]
  },
  {
   "cell_type": "code",
   "execution_count": 4,
   "metadata": {},
   "outputs": [
    {
     "name": "stderr",
     "output_type": "stream",
     "text": [
      "/home/umer/umer_projects/torch_tutor/venv/lib/python3.10/site-packages/tqdm/auto.py:21: TqdmWarning: IProgress not found. Please update jupyter and ipywidgets. See https://ipywidgets.readthedocs.io/en/stable/user_install.html\n",
      "  from .autonotebook import tqdm as notebook_tqdm\n",
      "1208it [00:01, 649.95it/s]\n"
     ]
    },
    {
     "data": {
      "text/plain": [
       "[{'page_number': -41,\n",
       "  'page_char_count': 29,\n",
       "  'page_word_count': 4,\n",
       "  'page_sentence_count_raw': 1,\n",
       "  'page_token_count': 7.25,\n",
       "  'text': 'Human Nutrition: 2020 Edition'},\n",
       " {'page_number': -40,\n",
       "  'page_char_count': 0,\n",
       "  'page_word_count': 1,\n",
       "  'page_sentence_count_raw': 1,\n",
       "  'page_token_count': 0.0,\n",
       "  'text': ''}]"
      ]
     },
     "execution_count": 4,
     "metadata": {},
     "output_type": "execute_result"
    }
   ],
   "source": [
    "import fitz\n",
    "from tqdm.auto import tqdm\n",
    "\n",
    "def text_formatter(text: str) -> str:\n",
    "    \"\"\"Performs minor formatting on text.\"\"\"\n",
    "    cleaned_text = text.replace('\\n', \" \").strip()\n",
    "\n",
    "# Potentially more text formatting functions can go here...\n",
    "    return cleaned_text\n",
    "\n",
    "def open_and_read_pdf(pdf_path: str) -> list[dict]:\n",
    "    \"\"\"\n",
    "    Opens a PDF file, reads its text content page by page, and collects statistics.\n",
    "\n",
    "    Parameters:\n",
    "        pdf_path (str): The file path to the PDF document to be opened and read.\n",
    "\n",
    "    Returns:\n",
    "        list[dict]: A list of dictionaries, each containing the page number\n",
    "        (adjusted), character count, word count, sentence count, token count, and the extracted text\n",
    "        for each page.\n",
    "    \"\"\"\n",
    "    doc = fitz.open(pdf_path)  # open a document\n",
    "    pages_and_texts = []\n",
    "    for page_number, page in tqdm(enumerate(doc)):  # iterate the document pages\n",
    "        text = page.get_text()  # get plain text encoded as UTF-8\n",
    "        text = text_formatter(text)\n",
    "        pages_and_texts.append({\"page_number\": page_number - 41,  # adjust page numbers since our PDF starts on page 42\n",
    "                                \"page_char_count\": len(text),\n",
    "                                \"page_word_count\": len(text.split(\" \")),\n",
    "                                \"page_sentence_count_raw\": len(text.split(\". \")),\n",
    "                                \"page_token_count\": len(text) / 4,  # 1 token = ~4 chars, see: https://help.openai.com/en/articles/4936856-what-are-tokens-and-how-to-count-them\n",
    "                                \"text\": text})\n",
    "    return pages_and_texts\n",
    "\n",
    "pages_and_texts = open_and_read_pdf(pdf_path=pdf_path)\n",
    "pages_and_texts[:2]"
   ]
  },
  {
   "cell_type": "code",
   "execution_count": 5,
   "metadata": {},
   "outputs": [
    {
     "data": {
      "text/plain": [
       "[{'page_number': 70,\n",
       "  'page_char_count': 799,\n",
       "  'page_word_count': 140,\n",
       "  'page_sentence_count_raw': 6,\n",
       "  'page_token_count': 199.75,\n",
       "  'text': 'Image by  Gabriel Lee  / CC  BY-NC-SA  Everyday Connection  There has been significant talk about pre- and probiotic  foods in the mainstream media. The World Health  Organization defines probiotics as live bacteria that confer  beneficial health effects on their host. They are sometimes  called “friendly bacteria.” The most common bacteria  labeled as probiotic is lactic acid bacteria (lactobacilli). They  are added as live cultures to certain fermented foods such  as yogurt. Prebiotics are indigestible foods, primarily  soluble fibers, that stimulate the growth of certain strains  of bacteria in the large intestine and provide health benefits  to the host. A review article in the June 2008 issue of the  Journal of Nutrition concludes that there is scientific  70  |  The Digestive System'},\n",
       " {'page_number': 461,\n",
       "  'page_char_count': 1339,\n",
       "  'page_word_count': 230,\n",
       "  'page_sentence_count_raw': 12,\n",
       "  'page_token_count': 334.75,\n",
       "  'text': 'Image by  DoSiDo / CC  BY-SA 3.0  Atoms and molecules such as superoxide that have unpaired  electrons are called free radicals; those containing oxygen are more  specifically referred to as reactive oxygen species. The unpaired  electron in free radicals destabilizes them, making them highly  reactive. Other reactive oxygen species include hydrogen peroxide  and the hydroxyl radical.  Figure 8.2 Superoxide  A molecule with one unpaired electron, which makes it a free  radical.  The reactivity of free radicals is what poses a threat to  macromolecules such as DNA, RNA, proteins, and fatty acids. Free  radicals can cause chain reactions that ultimately damage cells.  For example, a superoxide molecule may react with a fatty acid  and steal one of its electrons. The fatty acid then becomes a free  radical that can react with another fatty acid nearby. As this chain  reaction continues, the permeability and fluidity of cell membranes  changes, proteins in cell membranes experience decreased activity,  and receptor proteins undergo changes in structure that either alter  or stop their function. If receptor proteins designed to react to  insulin levels undergo a structural change it can negatively affect  glucose uptake. Free radical reactions can continue unchecked  unless stopped by a defense mechanism.  The Atom  |  461'},\n",
       " {'page_number': 55,\n",
       "  'page_char_count': 348,\n",
       "  'page_word_count': 75,\n",
       "  'page_sentence_count_raw': 1,\n",
       "  'page_token_count': 87.0,\n",
       "  'text': 'Image by  Henrique  Felix on  unsplash.co m / CC0  Introduction  UNIVERSITY OF HAWAI‘I AT MĀNOA FOOD SCIENCE AND HUMAN  NUTRITION PROGRAM AND HUMAN NUTRITION PROGRAM  I ola no ke kino i ka māʻona o ka ʻōpū  The body enjoys health when the stomach is full  \\xa0 Learning Objectives  By the end of this chapter, you will be able to:  Introduction  |  55'}]"
      ]
     },
     "execution_count": 5,
     "metadata": {},
     "output_type": "execute_result"
    }
   ],
   "source": [
    "import random\n",
    "random.sample(pages_and_texts, k=3)"
   ]
  },
  {
   "cell_type": "code",
   "execution_count": 6,
   "metadata": {},
   "outputs": [
    {
     "data": {
      "text/html": [
       "<div>\n",
       "<style scoped>\n",
       "    .dataframe tbody tr th:only-of-type {\n",
       "        vertical-align: middle;\n",
       "    }\n",
       "\n",
       "    .dataframe tbody tr th {\n",
       "        vertical-align: top;\n",
       "    }\n",
       "\n",
       "    .dataframe thead th {\n",
       "        text-align: right;\n",
       "    }\n",
       "</style>\n",
       "<table border=\"1\" class=\"dataframe\">\n",
       "  <thead>\n",
       "    <tr style=\"text-align: right;\">\n",
       "      <th></th>\n",
       "      <th>page_number</th>\n",
       "      <th>page_char_count</th>\n",
       "      <th>page_word_count</th>\n",
       "      <th>page_sentence_count_raw</th>\n",
       "      <th>page_token_count</th>\n",
       "      <th>text</th>\n",
       "    </tr>\n",
       "  </thead>\n",
       "  <tbody>\n",
       "    <tr>\n",
       "      <th>0</th>\n",
       "      <td>-41</td>\n",
       "      <td>29</td>\n",
       "      <td>4</td>\n",
       "      <td>1</td>\n",
       "      <td>7.25</td>\n",
       "      <td>Human Nutrition: 2020 Edition</td>\n",
       "    </tr>\n",
       "    <tr>\n",
       "      <th>1</th>\n",
       "      <td>-40</td>\n",
       "      <td>0</td>\n",
       "      <td>1</td>\n",
       "      <td>1</td>\n",
       "      <td>0.00</td>\n",
       "      <td></td>\n",
       "    </tr>\n",
       "    <tr>\n",
       "      <th>2</th>\n",
       "      <td>-39</td>\n",
       "      <td>320</td>\n",
       "      <td>54</td>\n",
       "      <td>1</td>\n",
       "      <td>80.00</td>\n",
       "      <td>Human Nutrition: 2020  Edition  UNIVERSITY OF ...</td>\n",
       "    </tr>\n",
       "    <tr>\n",
       "      <th>3</th>\n",
       "      <td>-38</td>\n",
       "      <td>212</td>\n",
       "      <td>32</td>\n",
       "      <td>1</td>\n",
       "      <td>53.00</td>\n",
       "      <td>Human Nutrition: 2020 Edition by University of...</td>\n",
       "    </tr>\n",
       "    <tr>\n",
       "      <th>4</th>\n",
       "      <td>-37</td>\n",
       "      <td>797</td>\n",
       "      <td>145</td>\n",
       "      <td>2</td>\n",
       "      <td>199.25</td>\n",
       "      <td>Contents  Preface  University of Hawai‘i at Mā...</td>\n",
       "    </tr>\n",
       "  </tbody>\n",
       "</table>\n",
       "</div>"
      ],
      "text/plain": [
       "   page_number  page_char_count  page_word_count  page_sentence_count_raw  \\\n",
       "0          -41               29                4                        1   \n",
       "1          -40                0                1                        1   \n",
       "2          -39              320               54                        1   \n",
       "3          -38              212               32                        1   \n",
       "4          -37              797              145                        2   \n",
       "\n",
       "   page_token_count                                               text  \n",
       "0              7.25                      Human Nutrition: 2020 Edition  \n",
       "1              0.00                                                     \n",
       "2             80.00  Human Nutrition: 2020  Edition  UNIVERSITY OF ...  \n",
       "3             53.00  Human Nutrition: 2020 Edition by University of...  \n",
       "4            199.25  Contents  Preface  University of Hawai‘i at Mā...  "
      ]
     },
     "execution_count": 6,
     "metadata": {},
     "output_type": "execute_result"
    }
   ],
   "source": [
    "import pandas as pd\n",
    "\n",
    "df = pd.DataFrame(pages_and_texts)\n",
    "df.head()"
   ]
  },
  {
   "cell_type": "code",
   "execution_count": 7,
   "metadata": {},
   "outputs": [
    {
     "data": {
      "text/html": [
       "<div>\n",
       "<style scoped>\n",
       "    .dataframe tbody tr th:only-of-type {\n",
       "        vertical-align: middle;\n",
       "    }\n",
       "\n",
       "    .dataframe tbody tr th {\n",
       "        vertical-align: top;\n",
       "    }\n",
       "\n",
       "    .dataframe thead th {\n",
       "        text-align: right;\n",
       "    }\n",
       "</style>\n",
       "<table border=\"1\" class=\"dataframe\">\n",
       "  <thead>\n",
       "    <tr style=\"text-align: right;\">\n",
       "      <th></th>\n",
       "      <th>page_number</th>\n",
       "      <th>page_char_count</th>\n",
       "      <th>page_word_count</th>\n",
       "      <th>page_sentence_count_raw</th>\n",
       "      <th>page_token_count</th>\n",
       "    </tr>\n",
       "  </thead>\n",
       "  <tbody>\n",
       "    <tr>\n",
       "      <th>count</th>\n",
       "      <td>1208.00</td>\n",
       "      <td>1208.00</td>\n",
       "      <td>1208.00</td>\n",
       "      <td>1208.00</td>\n",
       "      <td>1208.00</td>\n",
       "    </tr>\n",
       "    <tr>\n",
       "      <th>mean</th>\n",
       "      <td>562.50</td>\n",
       "      <td>1148.59</td>\n",
       "      <td>198.89</td>\n",
       "      <td>9.97</td>\n",
       "      <td>287.15</td>\n",
       "    </tr>\n",
       "    <tr>\n",
       "      <th>std</th>\n",
       "      <td>348.86</td>\n",
       "      <td>560.44</td>\n",
       "      <td>95.75</td>\n",
       "      <td>6.19</td>\n",
       "      <td>140.11</td>\n",
       "    </tr>\n",
       "    <tr>\n",
       "      <th>min</th>\n",
       "      <td>-41.00</td>\n",
       "      <td>0.00</td>\n",
       "      <td>1.00</td>\n",
       "      <td>1.00</td>\n",
       "      <td>0.00</td>\n",
       "    </tr>\n",
       "    <tr>\n",
       "      <th>25%</th>\n",
       "      <td>260.75</td>\n",
       "      <td>762.75</td>\n",
       "      <td>134.00</td>\n",
       "      <td>4.00</td>\n",
       "      <td>190.69</td>\n",
       "    </tr>\n",
       "    <tr>\n",
       "      <th>50%</th>\n",
       "      <td>562.50</td>\n",
       "      <td>1232.50</td>\n",
       "      <td>215.00</td>\n",
       "      <td>10.00</td>\n",
       "      <td>308.12</td>\n",
       "    </tr>\n",
       "    <tr>\n",
       "      <th>75%</th>\n",
       "      <td>864.25</td>\n",
       "      <td>1605.25</td>\n",
       "      <td>271.25</td>\n",
       "      <td>14.00</td>\n",
       "      <td>401.31</td>\n",
       "    </tr>\n",
       "    <tr>\n",
       "      <th>max</th>\n",
       "      <td>1166.00</td>\n",
       "      <td>2308.00</td>\n",
       "      <td>429.00</td>\n",
       "      <td>32.00</td>\n",
       "      <td>577.00</td>\n",
       "    </tr>\n",
       "  </tbody>\n",
       "</table>\n",
       "</div>"
      ],
      "text/plain": [
       "       page_number  page_char_count  page_word_count  page_sentence_count_raw  \\\n",
       "count      1208.00          1208.00          1208.00                  1208.00   \n",
       "mean        562.50          1148.59           198.89                     9.97   \n",
       "std         348.86           560.44            95.75                     6.19   \n",
       "min         -41.00             0.00             1.00                     1.00   \n",
       "25%         260.75           762.75           134.00                     4.00   \n",
       "50%         562.50          1232.50           215.00                    10.00   \n",
       "75%         864.25          1605.25           271.25                    14.00   \n",
       "max        1166.00          2308.00           429.00                    32.00   \n",
       "\n",
       "       page_token_count  \n",
       "count           1208.00  \n",
       "mean             287.15  \n",
       "std              140.11  \n",
       "min                0.00  \n",
       "25%              190.69  \n",
       "50%              308.12  \n",
       "75%              401.31  \n",
       "max              577.00  "
      ]
     },
     "execution_count": 7,
     "metadata": {},
     "output_type": "execute_result"
    }
   ],
   "source": [
    "df.describe().round(2)"
   ]
  },
  {
   "cell_type": "markdown",
   "metadata": {},
   "source": [
    "Token count is important here because:\n",
    "Embedding models and  LLMs dont deal with infinite tokens.\n",
    "For Example: An embedding model might have been trained to embed sequences of 384 tokens into numerical space.\n",
    "LLMs also cannot accept infinite tokens in their context windows."
   ]
  },
  {
   "cell_type": "markdown",
   "metadata": {},
   "source": [
    "### Further Text Processing\n",
    "Splitting pages into sentences.\n",
    "There are two ways to do this:\n",
    "1) Split sentences based on `\".\"` characters.\n",
    "2) Using NLP libraries like spaCy and nltk."
   ]
  },
  {
   "cell_type": "code",
   "execution_count": 8,
   "metadata": {},
   "outputs": [
    {
     "name": "stderr",
     "output_type": "stream",
     "text": [
      "/home/umer/umer_projects/torch_tutor/venv/lib/python3.10/site-packages/torch/cuda/__init__.py:611: UserWarning: Can't initialize NVML\n",
      "  warnings.warn(\"Can't initialize NVML\")\n",
      "/home/umer/umer_projects/torch_tutor/venv/lib/python3.10/site-packages/torch/cuda/__init__.py:740: UserWarning: CUDA initialization: Unexpected error from cudaGetDeviceCount(). Did you run some cuda functions before calling NumCudaDevices() that might have already set an error? Error 804: forward compatibility was attempted on non supported HW (Triggered internally at ../c10/cuda/CUDAFunctions.cpp:108.)\n",
      "  return torch._C._cuda_getDeviceCount() if nvml_count < 0 else nvml_count\n"
     ]
    },
    {
     "data": {
      "text/plain": [
       "[This is a sentence., This is another sentence., I like elephants]"
      ]
     },
     "execution_count": 8,
     "metadata": {},
     "output_type": "execute_result"
    }
   ],
   "source": [
    "from spacy.lang.en import English\n",
    "nlp = English()\n",
    "\n",
    "# Add a sentencizer pipeline\n",
    "nlp.add_pipe(\"sentencizer\")\n",
    "\n",
    "# Create document instance as an example\n",
    "doc = nlp(\"This is a sentence. This is another sentence. I like elephants\")\n",
    "assert len(list(doc.sents)) == 3\n",
    "\n",
    "# print out our sentences split\n",
    "list(doc.sents)"
   ]
  },
  {
   "cell_type": "code",
   "execution_count": 9,
   "metadata": {},
   "outputs": [
    {
     "name": "stderr",
     "output_type": "stream",
     "text": [
      "100%|██████████| 1208/1208 [00:02<00:00, 544.33it/s]\n"
     ]
    }
   ],
   "source": [
    "for item in tqdm(pages_and_texts):\n",
    "    item[\"sentences\"] = list(nlp(item[\"text\"]).sents)\n",
    "\n",
    "    # Make sure all sentences are strings (the default type is a spaCy datatype)\n",
    "    item[\"sentences\"] = [str(sentence) for sentence in item[\"sentences\"]]\n",
    "\n",
    "    # count the sentences\n",
    "    item[\"page_sentence_count_spacy\"] = len(item[\"sentences\"])"
   ]
  },
  {
   "cell_type": "code",
   "execution_count": 10,
   "metadata": {},
   "outputs": [
    {
     "data": {
      "text/plain": [
       "[{'page_number': 212,\n",
       "  'page_char_count': 1325,\n",
       "  'page_word_count': 226,\n",
       "  'page_sentence_count_raw': 12,\n",
       "  'page_token_count': 331.25,\n",
       "  'text': 'The Beverage Panel recommends an even lower intake of calories  from beverages than IOM—10 percent or less of total caloric intake.  Table 3.10 Recommendations of the Beverage Panel  Beverage  Servings per day*  Water  ≥ 4 (women), ≥ 6 (men)  Unsweetened coffee and tea  ≤ 8 for tea, ≤ 4 for coffee  Nonfat and low-fat milk; fortified soy drinks ≤ 2  Diet beverages with sugar substitutes  ≤ 4  100 percent fruit juices, whole milk, sports  drinks  ≤ 1  Calorie-rich beverages without nutrients  ≤ 1, less if trying to lose  weight  *One serving is eight ounces.  Source: Beverage Panel Recommendations and Analysis. University  of North Carolina, Chapel Hill. US Beverage Guidance Council.  http:/ /www.cpc.unc.edu/projects/nutrans/policy/beverage/us- beverage-panel. Accessed November 6, 2012.  Sources of Drinking Water  The Beverage Panel recommends that women drink at least 32  ounces and men drink at least 48 ounces of water daily. In 1974, the  US federal government enacted The Safe Drinking Water Act with  the intention of providing the American public with safe drinking  water. This act requires the Environmental Protection Agency (EPA)  to set water-quality standards and assure that the 150,000-plus  http:/ /www.beveragemarketing.com/?section=pressrel eases. Accessed March 17, 2011.  212  |  Water Concerns',\n",
       "  'sentences': ['The Beverage Panel recommends an even lower intake of calories  from beverages than IOM—10 percent or less of total caloric intake.',\n",
       "   ' Table 3.10 Recommendations of the Beverage Panel  Beverage  Servings per day*  Water  ≥ 4 (women), ≥ 6 (men)  Unsweetened coffee and tea  ≤ 8 for tea, ≤ 4 for coffee  Nonfat and low-fat milk; fortified soy drinks ≤ 2  Diet beverages with sugar substitutes  ≤ 4  100 percent fruit juices, whole milk, sports  drinks  ≤ 1  Calorie-rich beverages without nutrients  ≤ 1, less if trying to lose  weight  *One serving is eight ounces.',\n",
       "   ' Source: Beverage Panel Recommendations and Analysis.',\n",
       "   'University  of North Carolina, Chapel Hill.',\n",
       "   'US Beverage Guidance Council.',\n",
       "   ' http:/ /www.cpc.unc.edu/projects/nutrans/policy/beverage/us- beverage-panel.',\n",
       "   'Accessed November 6, 2012.',\n",
       "   ' Sources of Drinking Water  The Beverage Panel recommends that women drink at least 32  ounces and men drink at least 48 ounces of water daily.',\n",
       "   'In 1974, the  US federal government enacted The Safe Drinking Water Act with  the intention of providing the American public with safe drinking  water.',\n",
       "   'This act requires the Environmental Protection Agency (EPA)  to set water-quality standards and assure that the 150,000-plus  http:/ /www.beveragemarketing.com/?section=pressrel eases.',\n",
       "   'Accessed March 17, 2011.',\n",
       "   ' 212  |  Water Concerns'],\n",
       "  'page_sentence_count_spacy': 12}]"
      ]
     },
     "execution_count": 10,
     "metadata": {},
     "output_type": "execute_result"
    }
   ],
   "source": [
    "random.sample(pages_and_texts, k=1)"
   ]
  },
  {
   "cell_type": "code",
   "execution_count": 11,
   "metadata": {},
   "outputs": [
    {
     "data": {
      "text/html": [
       "<div>\n",
       "<style scoped>\n",
       "    .dataframe tbody tr th:only-of-type {\n",
       "        vertical-align: middle;\n",
       "    }\n",
       "\n",
       "    .dataframe tbody tr th {\n",
       "        vertical-align: top;\n",
       "    }\n",
       "\n",
       "    .dataframe thead th {\n",
       "        text-align: right;\n",
       "    }\n",
       "</style>\n",
       "<table border=\"1\" class=\"dataframe\">\n",
       "  <thead>\n",
       "    <tr style=\"text-align: right;\">\n",
       "      <th></th>\n",
       "      <th>page_number</th>\n",
       "      <th>page_char_count</th>\n",
       "      <th>page_word_count</th>\n",
       "      <th>page_sentence_count_raw</th>\n",
       "      <th>page_token_count</th>\n",
       "      <th>page_sentence_count_spacy</th>\n",
       "    </tr>\n",
       "  </thead>\n",
       "  <tbody>\n",
       "    <tr>\n",
       "      <th>count</th>\n",
       "      <td>1208.00</td>\n",
       "      <td>1208.00</td>\n",
       "      <td>1208.00</td>\n",
       "      <td>1208.00</td>\n",
       "      <td>1208.00</td>\n",
       "      <td>1208.00</td>\n",
       "    </tr>\n",
       "    <tr>\n",
       "      <th>mean</th>\n",
       "      <td>562.50</td>\n",
       "      <td>1148.59</td>\n",
       "      <td>198.89</td>\n",
       "      <td>9.97</td>\n",
       "      <td>287.15</td>\n",
       "      <td>10.32</td>\n",
       "    </tr>\n",
       "    <tr>\n",
       "      <th>std</th>\n",
       "      <td>348.86</td>\n",
       "      <td>560.44</td>\n",
       "      <td>95.75</td>\n",
       "      <td>6.19</td>\n",
       "      <td>140.11</td>\n",
       "      <td>6.30</td>\n",
       "    </tr>\n",
       "    <tr>\n",
       "      <th>min</th>\n",
       "      <td>-41.00</td>\n",
       "      <td>0.00</td>\n",
       "      <td>1.00</td>\n",
       "      <td>1.00</td>\n",
       "      <td>0.00</td>\n",
       "      <td>0.00</td>\n",
       "    </tr>\n",
       "    <tr>\n",
       "      <th>25%</th>\n",
       "      <td>260.75</td>\n",
       "      <td>762.75</td>\n",
       "      <td>134.00</td>\n",
       "      <td>4.00</td>\n",
       "      <td>190.69</td>\n",
       "      <td>5.00</td>\n",
       "    </tr>\n",
       "    <tr>\n",
       "      <th>50%</th>\n",
       "      <td>562.50</td>\n",
       "      <td>1232.50</td>\n",
       "      <td>215.00</td>\n",
       "      <td>10.00</td>\n",
       "      <td>308.12</td>\n",
       "      <td>10.00</td>\n",
       "    </tr>\n",
       "    <tr>\n",
       "      <th>75%</th>\n",
       "      <td>864.25</td>\n",
       "      <td>1605.25</td>\n",
       "      <td>271.25</td>\n",
       "      <td>14.00</td>\n",
       "      <td>401.31</td>\n",
       "      <td>15.00</td>\n",
       "    </tr>\n",
       "    <tr>\n",
       "      <th>max</th>\n",
       "      <td>1166.00</td>\n",
       "      <td>2308.00</td>\n",
       "      <td>429.00</td>\n",
       "      <td>32.00</td>\n",
       "      <td>577.00</td>\n",
       "      <td>28.00</td>\n",
       "    </tr>\n",
       "  </tbody>\n",
       "</table>\n",
       "</div>"
      ],
      "text/plain": [
       "       page_number  page_char_count  page_word_count  page_sentence_count_raw  \\\n",
       "count      1208.00          1208.00          1208.00                  1208.00   \n",
       "mean        562.50          1148.59           198.89                     9.97   \n",
       "std         348.86           560.44            95.75                     6.19   \n",
       "min         -41.00             0.00             1.00                     1.00   \n",
       "25%         260.75           762.75           134.00                     4.00   \n",
       "50%         562.50          1232.50           215.00                    10.00   \n",
       "75%         864.25          1605.25           271.25                    14.00   \n",
       "max        1166.00          2308.00           429.00                    32.00   \n",
       "\n",
       "       page_token_count  page_sentence_count_spacy  \n",
       "count           1208.00                    1208.00  \n",
       "mean             287.15                      10.32  \n",
       "std              140.11                       6.30  \n",
       "min                0.00                       0.00  \n",
       "25%              190.69                       5.00  \n",
       "50%              308.12                      10.00  \n",
       "75%              401.31                      15.00  \n",
       "max              577.00                      28.00  "
      ]
     },
     "execution_count": 11,
     "metadata": {},
     "output_type": "execute_result"
    }
   ],
   "source": [
    "df = pd.DataFrame(pages_and_texts)\n",
    "df.describe().round(2)"
   ]
  },
  {
   "cell_type": "markdown",
   "metadata": {},
   "source": [
    "### Chunking out sentences together\n",
    "\n",
    "The concept of splitting larger pieces of text into smaller ones is often referred to as text splitting or chunking.\n",
    "\n",
    "There is no 100% correct way.\n",
    "\n",
    "We'll keep it simple and split into groups of 10 sentences.\n",
    "\n",
    "Why we do chunking?\n",
    "\n",
    "- So our texts are easier to filter.\n",
    "- So our text chunks can fit into our embedding model context window.\n",
    "- So our contexts passed into the LLM can be more specific and focused."
   ]
  },
  {
   "cell_type": "code",
   "execution_count": 12,
   "metadata": {},
   "outputs": [
    {
     "data": {
      "text/plain": [
       "[[0, 1, 2, 3, 4, 5, 6, 7, 8, 9],\n",
       " [10, 11, 12, 13, 14, 15, 16, 17, 18, 19],\n",
       " [20, 21, 22, 23, 24]]"
      ]
     },
     "execution_count": 12,
     "metadata": {},
     "output_type": "execute_result"
    }
   ],
   "source": [
    "# Define split size to turn groups of sentences into chunks\n",
    "num_sentence_chunk_size = 10\n",
    "\n",
    "# Create a function to split lists of text recursively into chunk size.\n",
    "# e.g. [20] -> [10, 10] or [25] -> [10, 10, 5]\n",
    "\n",
    "def split_list(input_list: list[str],\n",
    "               slice_size: int=num_sentence_chunk_size) -> list[list[str]]:\n",
    "    return [input_list[i:i+slice_size] for i in range(0, len(input_list), slice_size)]\n",
    "\n",
    "test_list = list(range(25))\n",
    "split_list(test_list)\n"
   ]
  },
  {
   "cell_type": "code",
   "execution_count": 13,
   "metadata": {},
   "outputs": [
    {
     "name": "stderr",
     "output_type": "stream",
     "text": [
      "100%|██████████| 1208/1208 [00:00<00:00, 252088.13it/s]\n"
     ]
    }
   ],
   "source": [
    "# Loop through pages and text and sentences into chuncks\n",
    "for item in tqdm(pages_and_texts):\n",
    "    item['sentence_chunks'] = split_list(input_list=item['sentences'],\n",
    "                                                     slice_size=num_sentence_chunk_size)\n",
    "    item[\"num_chunks\"] = len(item[\"sentence_chunks\"])\n",
    "    "
   ]
  },
  {
   "cell_type": "code",
   "execution_count": 14,
   "metadata": {},
   "outputs": [
    {
     "data": {
      "text/plain": [
       "[{'page_number': 981,\n",
       "  'page_char_count': 1474,\n",
       "  'page_word_count': 246,\n",
       "  'page_sentence_count_raw': 14,\n",
       "  'page_token_count': 368.5,\n",
       "  'text': 'health and cannot be duplicated with a pill or a regimen of  supplements. Therefore, vitamins and other dietary supplements  should never be a substitute for food. Nutrients should always be  derived from food first.  Food: The Best Medicine  Poor dietary choices and a sedentary lifestyle account for about  300–600 thousand deaths every year according to the US  Department of Health and Human Services. That number is thirteen  times higher than the deaths due to gun violence.4 The typical  North American diet is too high in saturated fat, sodium, and sugar,  and too low in fiber in the form of whole fruits, vegetables, and  whole grains to keep people healthy. With so many threats to  optimal health it is vital to address those factors that are under your  control, namely dietary and lifestyle choices. A diet that supplies  your body with the needed energy and nutrients daily will result in  efficient body functioning and in protection from disease. Making  sound nutritional choices can also provide support for individuals  undergoing treatment for short-term or chronic conditions. Finding  a balance between nutritional needs with concerns about drug  interactions can hasten recovery, improve quality of life, and  minimize the side effects from treatment protocols.  \\xa0 4.\\xa0Why Good Nutrition Is Important. CSPINET.org.  http:/ /www.cspinet.org/nutritionpolicy/ nutrition_policy.html. Accessed March 9, 2018.  Food Supplements and Food Replacements  |  981',\n",
       "  'sentences': ['health and cannot be duplicated with a pill or a regimen of  supplements.',\n",
       "   'Therefore, vitamins and other dietary supplements  should never be a substitute for food.',\n",
       "   'Nutrients should always be  derived from food first.',\n",
       "   ' Food: The Best Medicine  Poor dietary choices and a sedentary lifestyle account for about  300–600 thousand deaths every year according to the US  Department of Health and Human Services.',\n",
       "   'That number is thirteen  times higher than the deaths due to gun violence.4 The typical  North American diet is too high in saturated fat, sodium, and sugar,  and too low in fiber in the form of whole fruits, vegetables, and  whole grains to keep people healthy.',\n",
       "   'With so many threats to  optimal health it is vital to address those factors that are under your  control, namely dietary and lifestyle choices.',\n",
       "   'A diet that supplies  your body with the needed energy and nutrients daily will result in  efficient body functioning and in protection from disease.',\n",
       "   'Making  sound nutritional choices can also provide support for individuals  undergoing treatment for short-term or chronic conditions.',\n",
       "   'Finding  a balance between nutritional needs with concerns about drug  interactions can hasten recovery, improve quality of life, and  minimize the side effects from treatment protocols.',\n",
       "   ' \\xa0 4.',\n",
       "   '\\xa0Why Good Nutrition Is Important.',\n",
       "   'CSPINET.org.',\n",
       "   ' http:/ /www.cspinet.org/nutritionpolicy/ nutrition_policy.html.',\n",
       "   'Accessed March 9, 2018.',\n",
       "   ' Food Supplements and Food Replacements  |  981'],\n",
       "  'page_sentence_count_spacy': 15,\n",
       "  'sentence_chunks': [['health and cannot be duplicated with a pill or a regimen of  supplements.',\n",
       "    'Therefore, vitamins and other dietary supplements  should never be a substitute for food.',\n",
       "    'Nutrients should always be  derived from food first.',\n",
       "    ' Food: The Best Medicine  Poor dietary choices and a sedentary lifestyle account for about  300–600 thousand deaths every year according to the US  Department of Health and Human Services.',\n",
       "    'That number is thirteen  times higher than the deaths due to gun violence.4 The typical  North American diet is too high in saturated fat, sodium, and sugar,  and too low in fiber in the form of whole fruits, vegetables, and  whole grains to keep people healthy.',\n",
       "    'With so many threats to  optimal health it is vital to address those factors that are under your  control, namely dietary and lifestyle choices.',\n",
       "    'A diet that supplies  your body with the needed energy and nutrients daily will result in  efficient body functioning and in protection from disease.',\n",
       "    'Making  sound nutritional choices can also provide support for individuals  undergoing treatment for short-term or chronic conditions.',\n",
       "    'Finding  a balance between nutritional needs with concerns about drug  interactions can hasten recovery, improve quality of life, and  minimize the side effects from treatment protocols.',\n",
       "    ' \\xa0 4.'],\n",
       "   ['\\xa0Why Good Nutrition Is Important.',\n",
       "    'CSPINET.org.',\n",
       "    ' http:/ /www.cspinet.org/nutritionpolicy/ nutrition_policy.html.',\n",
       "    'Accessed March 9, 2018.',\n",
       "    ' Food Supplements and Food Replacements  |  981']],\n",
       "  'num_chunks': 2}]"
      ]
     },
     "execution_count": 14,
     "metadata": {},
     "output_type": "execute_result"
    }
   ],
   "source": [
    "random.sample(pages_and_texts,k=1)"
   ]
  },
  {
   "cell_type": "code",
   "execution_count": 15,
   "metadata": {},
   "outputs": [
    {
     "data": {
      "text/html": [
       "<div>\n",
       "<style scoped>\n",
       "    .dataframe tbody tr th:only-of-type {\n",
       "        vertical-align: middle;\n",
       "    }\n",
       "\n",
       "    .dataframe tbody tr th {\n",
       "        vertical-align: top;\n",
       "    }\n",
       "\n",
       "    .dataframe thead th {\n",
       "        text-align: right;\n",
       "    }\n",
       "</style>\n",
       "<table border=\"1\" class=\"dataframe\">\n",
       "  <thead>\n",
       "    <tr style=\"text-align: right;\">\n",
       "      <th></th>\n",
       "      <th>page_number</th>\n",
       "      <th>page_char_count</th>\n",
       "      <th>page_word_count</th>\n",
       "      <th>page_sentence_count_raw</th>\n",
       "      <th>page_token_count</th>\n",
       "      <th>page_sentence_count_spacy</th>\n",
       "      <th>num_chunks</th>\n",
       "    </tr>\n",
       "  </thead>\n",
       "  <tbody>\n",
       "    <tr>\n",
       "      <th>count</th>\n",
       "      <td>1208.00</td>\n",
       "      <td>1208.00</td>\n",
       "      <td>1208.00</td>\n",
       "      <td>1208.00</td>\n",
       "      <td>1208.00</td>\n",
       "      <td>1208.00</td>\n",
       "      <td>1208.00</td>\n",
       "    </tr>\n",
       "    <tr>\n",
       "      <th>mean</th>\n",
       "      <td>562.50</td>\n",
       "      <td>1148.59</td>\n",
       "      <td>198.89</td>\n",
       "      <td>9.97</td>\n",
       "      <td>287.15</td>\n",
       "      <td>10.32</td>\n",
       "      <td>1.53</td>\n",
       "    </tr>\n",
       "    <tr>\n",
       "      <th>std</th>\n",
       "      <td>348.86</td>\n",
       "      <td>560.44</td>\n",
       "      <td>95.75</td>\n",
       "      <td>6.19</td>\n",
       "      <td>140.11</td>\n",
       "      <td>6.30</td>\n",
       "      <td>0.64</td>\n",
       "    </tr>\n",
       "    <tr>\n",
       "      <th>min</th>\n",
       "      <td>-41.00</td>\n",
       "      <td>0.00</td>\n",
       "      <td>1.00</td>\n",
       "      <td>1.00</td>\n",
       "      <td>0.00</td>\n",
       "      <td>0.00</td>\n",
       "      <td>0.00</td>\n",
       "    </tr>\n",
       "    <tr>\n",
       "      <th>25%</th>\n",
       "      <td>260.75</td>\n",
       "      <td>762.75</td>\n",
       "      <td>134.00</td>\n",
       "      <td>4.00</td>\n",
       "      <td>190.69</td>\n",
       "      <td>5.00</td>\n",
       "      <td>1.00</td>\n",
       "    </tr>\n",
       "    <tr>\n",
       "      <th>50%</th>\n",
       "      <td>562.50</td>\n",
       "      <td>1232.50</td>\n",
       "      <td>215.00</td>\n",
       "      <td>10.00</td>\n",
       "      <td>308.12</td>\n",
       "      <td>10.00</td>\n",
       "      <td>1.00</td>\n",
       "    </tr>\n",
       "    <tr>\n",
       "      <th>75%</th>\n",
       "      <td>864.25</td>\n",
       "      <td>1605.25</td>\n",
       "      <td>271.25</td>\n",
       "      <td>14.00</td>\n",
       "      <td>401.31</td>\n",
       "      <td>15.00</td>\n",
       "      <td>2.00</td>\n",
       "    </tr>\n",
       "    <tr>\n",
       "      <th>max</th>\n",
       "      <td>1166.00</td>\n",
       "      <td>2308.00</td>\n",
       "      <td>429.00</td>\n",
       "      <td>32.00</td>\n",
       "      <td>577.00</td>\n",
       "      <td>28.00</td>\n",
       "      <td>3.00</td>\n",
       "    </tr>\n",
       "  </tbody>\n",
       "</table>\n",
       "</div>"
      ],
      "text/plain": [
       "       page_number  page_char_count  page_word_count  page_sentence_count_raw  \\\n",
       "count      1208.00          1208.00          1208.00                  1208.00   \n",
       "mean        562.50          1148.59           198.89                     9.97   \n",
       "std         348.86           560.44            95.75                     6.19   \n",
       "min         -41.00             0.00             1.00                     1.00   \n",
       "25%         260.75           762.75           134.00                     4.00   \n",
       "50%         562.50          1232.50           215.00                    10.00   \n",
       "75%         864.25          1605.25           271.25                    14.00   \n",
       "max        1166.00          2308.00           429.00                    32.00   \n",
       "\n",
       "       page_token_count  page_sentence_count_spacy  num_chunks  \n",
       "count           1208.00                    1208.00     1208.00  \n",
       "mean             287.15                      10.32        1.53  \n",
       "std              140.11                       6.30        0.64  \n",
       "min                0.00                       0.00        0.00  \n",
       "25%              190.69                       5.00        1.00  \n",
       "50%              308.12                      10.00        1.00  \n",
       "75%              401.31                      15.00        2.00  \n",
       "max              577.00                      28.00        3.00  "
      ]
     },
     "execution_count": 15,
     "metadata": {},
     "output_type": "execute_result"
    }
   ],
   "source": [
    "df = pd.DataFrame(pages_and_texts)\n",
    "df.describe().round(2)"
   ]
  },
  {
   "cell_type": "markdown",
   "metadata": {},
   "source": [
    "### Splitting each chunk into its own item\n",
    "\n",
    "We'd like to embed each chunk of sentences into its own numerical representation.\n",
    "\n",
    "Will provide more granularity.\n",
    "\n",
    "Meaning, we can dive specifically into the text sample that was used in our model."
   ]
  },
  {
   "cell_type": "code",
   "execution_count": 20,
   "metadata": {},
   "outputs": [
    {
     "name": "stderr",
     "output_type": "stream",
     "text": [
      "  0%|          | 0/1208 [00:00<?, ?it/s]"
     ]
    },
    {
     "name": "stderr",
     "output_type": "stream",
     "text": [
      "100%|██████████| 1208/1208 [00:00<00:00, 24227.14it/s]\n"
     ]
    },
    {
     "data": {
      "text/plain": [
       "1843"
      ]
     },
     "execution_count": 20,
     "metadata": {},
     "output_type": "execute_result"
    }
   ],
   "source": [
    "import re\n",
    "\n",
    "# Split each chunk into its own item\n",
    "pages_and_chunks = []\n",
    "\n",
    "for item in tqdm(pages_and_texts):\n",
    "    for sentence_chunk in item[\"sentence_chunks\"]:\n",
    "        chunk_dict = {}\n",
    "        chunk_dict[\"page_number\"] = item[\"page_number\"]\n",
    "\n",
    "        # Join the sentences together into a paragraph-like , aka join the list of sentences into one paragraph\n",
    "        joined_sentence_chunk = \"\".join(sentence_chunk).replace(\"  \", \" \").strip()\n",
    "        joined_sentence_chunk = re.sub(r'\\.([A-Z])', r'. \\1', joined_sentence_chunk) # \".A\" => \". A\" (will work for any capital letter)\n",
    "\n",
    "        chunk_dict[\"sentence_chunk\"] = joined_sentence_chunk\n",
    "\n",
    "\n",
    "        # Get some stats on our chunks\n",
    "        chunk_dict[\"chunk_char_count\"] = len(joined_sentence_chunk)\n",
    "        chunk_dict[\"chunk_word_count\"] = len([word for word in joined_sentence_chunk.split(\" \")])\n",
    "        chunk_dict[\"chunk_token_count\"] = len(joined_sentence_chunk) / 4 # 1 token = ~4 chars\n",
    "\n",
    "        pages_and_chunks.append(chunk_dict)\n",
    "\n",
    "len(pages_and_chunks)"
   ]
  },
  {
   "cell_type": "code",
   "execution_count": 23,
   "metadata": {},
   "outputs": [
    {
     "data": {
      "text/plain": [
       "[{'page_number': 757,\n",
       "  'sentence_chunk': 'Updated March 2010. Accessed November 22, 2017. MyPlate Planner | 757',\n",
       "  'chunk_char_count': 69,\n",
       "  'chunk_word_count': 11,\n",
       "  'chunk_token_count': 17.25}]"
      ]
     },
     "execution_count": 23,
     "metadata": {},
     "output_type": "execute_result"
    }
   ],
   "source": [
    "random.sample(pages_and_chunks, k=1)"
   ]
  },
  {
   "cell_type": "code",
   "execution_count": 24,
   "metadata": {},
   "outputs": [
    {
     "data": {
      "text/html": [
       "<div>\n",
       "<style scoped>\n",
       "    .dataframe tbody tr th:only-of-type {\n",
       "        vertical-align: middle;\n",
       "    }\n",
       "\n",
       "    .dataframe tbody tr th {\n",
       "        vertical-align: top;\n",
       "    }\n",
       "\n",
       "    .dataframe thead th {\n",
       "        text-align: right;\n",
       "    }\n",
       "</style>\n",
       "<table border=\"1\" class=\"dataframe\">\n",
       "  <thead>\n",
       "    <tr style=\"text-align: right;\">\n",
       "      <th></th>\n",
       "      <th>page_number</th>\n",
       "      <th>chunk_char_count</th>\n",
       "      <th>chunk_word_count</th>\n",
       "      <th>chunk_token_count</th>\n",
       "    </tr>\n",
       "  </thead>\n",
       "  <tbody>\n",
       "    <tr>\n",
       "      <th>count</th>\n",
       "      <td>1843.00</td>\n",
       "      <td>1843.00</td>\n",
       "      <td>1843.00</td>\n",
       "      <td>1843.00</td>\n",
       "    </tr>\n",
       "    <tr>\n",
       "      <th>mean</th>\n",
       "      <td>583.38</td>\n",
       "      <td>734.83</td>\n",
       "      <td>112.72</td>\n",
       "      <td>183.71</td>\n",
       "    </tr>\n",
       "    <tr>\n",
       "      <th>std</th>\n",
       "      <td>347.79</td>\n",
       "      <td>447.43</td>\n",
       "      <td>71.07</td>\n",
       "      <td>111.86</td>\n",
       "    </tr>\n",
       "    <tr>\n",
       "      <th>min</th>\n",
       "      <td>-41.00</td>\n",
       "      <td>12.00</td>\n",
       "      <td>3.00</td>\n",
       "      <td>3.00</td>\n",
       "    </tr>\n",
       "    <tr>\n",
       "      <th>25%</th>\n",
       "      <td>280.50</td>\n",
       "      <td>315.00</td>\n",
       "      <td>45.00</td>\n",
       "      <td>78.75</td>\n",
       "    </tr>\n",
       "    <tr>\n",
       "      <th>50%</th>\n",
       "      <td>586.00</td>\n",
       "      <td>746.00</td>\n",
       "      <td>114.00</td>\n",
       "      <td>186.50</td>\n",
       "    </tr>\n",
       "    <tr>\n",
       "      <th>75%</th>\n",
       "      <td>890.00</td>\n",
       "      <td>1118.50</td>\n",
       "      <td>173.00</td>\n",
       "      <td>279.62</td>\n",
       "    </tr>\n",
       "    <tr>\n",
       "      <th>max</th>\n",
       "      <td>1166.00</td>\n",
       "      <td>1831.00</td>\n",
       "      <td>297.00</td>\n",
       "      <td>457.75</td>\n",
       "    </tr>\n",
       "  </tbody>\n",
       "</table>\n",
       "</div>"
      ],
      "text/plain": [
       "       page_number  chunk_char_count  chunk_word_count  chunk_token_count\n",
       "count      1843.00           1843.00           1843.00            1843.00\n",
       "mean        583.38            734.83            112.72             183.71\n",
       "std         347.79            447.43             71.07             111.86\n",
       "min         -41.00             12.00              3.00               3.00\n",
       "25%         280.50            315.00             45.00              78.75\n",
       "50%         586.00            746.00            114.00             186.50\n",
       "75%         890.00           1118.50            173.00             279.62\n",
       "max        1166.00           1831.00            297.00             457.75"
      ]
     },
     "execution_count": 24,
     "metadata": {},
     "output_type": "execute_result"
    }
   ],
   "source": [
    "df = pd.DataFrame(pages_and_chunks)\n",
    "df.describe().round(2)"
   ]
  },
  {
   "cell_type": "markdown",
   "metadata": {},
   "source": [
    "### Filtering Shorter Chunks without much useful information"
   ]
  },
  {
   "cell_type": "code",
   "execution_count": 31,
   "metadata": {},
   "outputs": [
    {
     "name": "stdout",
     "output_type": "stream",
     "text": [
      "Chunk token count: 20.25 | Text: Published 2002. Accessed December 2, 2017. Pacific Based Dietary Guidelines | 761\n",
      "Chunk token count: 20.75 | Text: http:/ /pressbooks.oer.hawaii.edu/ humannutrition2/?p=118   132 | The Immune System\n",
      "Chunk token count: 21.75 | Text: http:/ /www.health.gov.fj/?page_id=1406. Accessed November 12, 2017. 652 | Introduction\n",
      "Chunk token count: 24.25 | Text: biological, chemicals, or physical) and identify preventative 1014 | Protecting the Public Health\n",
      "Chunk token count: 29.25 | Text: You can view it online here: http:/ /pressbooks.oer.hawaii.edu/ humannutrition2/?p=55   28 | Lifestyles and Nutrition\n"
     ]
    }
   ],
   "source": [
    "# Show random chunks with under 30 tokens in length\n",
    "min_token_length = 30\n",
    "\n",
    "for row in df[df[\"chunk_token_count\"] <= min_token_length].sample(5).iterrows():\n",
    "    print(f\"Chunk token count: {row[1]['chunk_token_count']} | Text: {row[1]['sentence_chunk']}\")"
   ]
  },
  {
   "cell_type": "code",
   "execution_count": null,
   "metadata": {},
   "outputs": [],
   "source": [
    "# Filter our DataFrame for rows with under 30 tokens\n",
    "pages_and_chunks_over_min_token_len"
   ]
  }
 ],
 "metadata": {
  "kernelspec": {
   "display_name": "venv",
   "language": "python",
   "name": "python3"
  },
  "language_info": {
   "codemirror_mode": {
    "name": "ipython",
    "version": 3
   },
   "file_extension": ".py",
   "mimetype": "text/x-python",
   "name": "python",
   "nbconvert_exporter": "python",
   "pygments_lexer": "ipython3",
   "version": "3.10.12"
  }
 },
 "nbformat": 4,
 "nbformat_minor": 2
}
